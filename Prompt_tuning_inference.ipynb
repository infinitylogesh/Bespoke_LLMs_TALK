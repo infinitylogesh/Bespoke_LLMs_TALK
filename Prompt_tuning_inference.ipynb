{
 "cells": [
  {
   "cell_type": "markdown",
   "metadata": {},
   "source": [
    "# Inference notebook for Prompt tuning - NL2SQL"
   ]
  },
  {
   "cell_type": "code",
   "execution_count": 9,
   "metadata": {},
   "outputs": [
    {
     "name": "stderr",
     "output_type": "stream",
     "text": [
      "Explicitly passing a `revision` is encouraged when loading a configuration with custom code to ensure no malicious code has been contributed in a newer revision.\n",
      "Explicitly passing a `revision` is encouraged when loading a model with custom code to ensure no malicious code has been contributed in a newer revision.\n"
     ]
    },
    {
     "data": {
      "text/plain": [
       "PeftModelForCausalLM(\n",
       "  (base_model): GPT2LMHeadCustomModel(\n",
       "    (transformer): GPT2CustomModel(\n",
       "      (wte): Embedding(49280, 2048)\n",
       "      (wpe): Embedding(2048, 2048)\n",
       "      (drop): Dropout(p=0.1, inplace=False)\n",
       "      (h): ModuleList(\n",
       "        (0-23): 24 x GPT2CustomBlock(\n",
       "          (ln_1): LayerNorm((2048,), eps=1e-05, elementwise_affine=True)\n",
       "          (attn): GPT2MQAttention(\n",
       "            (q_attn): Conv1D()\n",
       "            (kv_attn): Conv1D()\n",
       "            (c_proj): Conv1D()\n",
       "            (attn_dropout): Dropout(p=0.1, inplace=False)\n",
       "            (resid_dropout): Dropout(p=0.1, inplace=False)\n",
       "          )\n",
       "          (ln_2): LayerNorm((2048,), eps=1e-05, elementwise_affine=True)\n",
       "          (mlp): GPT2MLP(\n",
       "            (c_fc): Conv1D()\n",
       "            (c_proj): Conv1D()\n",
       "            (act): FastGELUActivation()\n",
       "            (dropout): Dropout(p=0.1, inplace=False)\n",
       "          )\n",
       "        )\n",
       "      )\n",
       "      (ln_f): LayerNorm((2048,), eps=1e-05, elementwise_affine=True)\n",
       "    )\n",
       "    (lm_head): Linear(in_features=2048, out_features=49280, bias=False)\n",
       "  )\n",
       "  (prompt_encoder): ModuleDict(\n",
       "    (default): PromptEmbedding(\n",
       "      (embedding): Embedding(8, 2048)\n",
       "    )\n",
       "  )\n",
       "  (word_embeddings): Embedding(49280, 2048)\n",
       ")"
      ]
     },
     "execution_count": 9,
     "metadata": {},
     "output_type": "execute_result"
    }
   ],
   "source": [
    "from transformers import AutoModelForCausalLM, AutoTokenizer, default_data_collator, get_linear_schedule_with_warmup\n",
    "from peft import PeftModel,get_peft_config, get_peft_model, PromptTuningInit, PromptTuningConfig, TaskType, PeftType, PeftConfig\n",
    "import torch\n",
    "\n",
    "device = \"cuda:0\"\n",
    "peft_model_id = \"prompt_model/\"\n",
    "model_name_or_path = \"bigcode/santacoder\"\n",
    "\n",
    "config = PeftConfig.from_pretrained(peft_model_id)\n",
    "org_model = AutoModelForCausalLM.from_pretrained(model_name_or_path,trust_remote_code=True)\n",
    "model = PeftModel.from_pretrained(org_model, peft_model_id)\n",
    "model.eval()\n",
    "model.to(device)\n"
   ]
  },
  {
   "cell_type": "code",
   "execution_count": 10,
   "metadata": {},
   "outputs": [],
   "source": [
    "tokenizer = AutoTokenizer.from_pretrained(model_name_or_path)\n",
    "if tokenizer.pad_token_id is None:\n",
    "    tokenizer.pad_token_id = tokenizer.eos_token_id"
   ]
  },
  {
   "cell_type": "code",
   "execution_count": 11,
   "metadata": {},
   "outputs": [],
   "source": [
    "stop_words_ids = [tokenizer.encode(stop_word) for stop_word in [\"\\n\"]]"
   ]
  },
  {
   "cell_type": "markdown",
   "metadata": {},
   "source": [
    "## Inference"
   ]
  },
  {
   "cell_type": "code",
   "execution_count": null,
   "metadata": {},
   "outputs": [],
   "source": [
    "def infer(model,input_text):\n",
    "    inputs = tokenizer(input_text,return_tensors=\"pt\")\n",
    "    with torch.no_grad():\n",
    "        inputs = {k: v.to(device) for k, v in inputs.items()}\n",
    "        outputs = model.generate(\n",
    "            input_ids=inputs[\"input_ids\"], attention_mask=inputs[\"attention_mask\"], max_new_tokens=40, eos_token_id=stop_words_ids[0])\n",
    "    \n",
    "    return tokenizer.batch_decode(outputs.detach().cpu().numpy(), skip_special_tokens=True)\n",
    "\n",
    "def parse(text):\n",
    "    return text.split(\"SQL :\")[1]"
   ]
  },
  {
   "cell_type": "markdown",
   "metadata": {},
   "source": [
    "#### Example Inference with Soft prompts"
   ]
  },
  {
   "cell_type": "code",
   "execution_count": 8,
   "metadata": {},
   "outputs": [
    {
     "name": "stderr",
     "output_type": "stream",
     "text": [
      "Setting `pad_token_id` to `eos_token_id`:185 for open-end generation.\n"
     ]
    },
    {
     "name": "stdout",
     "output_type": "stream",
     "text": [
      " SELECT AVG score FROM table WHERE subject = maths\n",
      "\n"
     ]
    }
   ],
   "source": [
    "input_text = \"\"\"question : What is the average score of students in maths \n",
    " Table Columns : id:INT,name:text,subject:Text,score:INT\n",
    " SQL : \"\"\"\n",
    " \n",
    "predictions = infer(model,input_text)\n",
    "print(parse(predictions[0]))"
   ]
  },
  {
   "cell_type": "code",
   "execution_count": 26,
   "metadata": {},
   "outputs": [
    {
     "name": "stderr",
     "output_type": "stream",
     "text": [
      "Setting `pad_token_id` to `eos_token_id`:185 for open-end generation.\n"
     ]
    },
    {
     "name": "stdout",
     "output_type": "stream",
     "text": [
      " SELECT MAX runs FROM table WHERE city = chennai AND player = dhoni\n",
      "\n"
     ]
    }
   ],
   "source": [
    "input_text = \"\"\"question : What is the highest score of dhoni in a match in chennai\n",
    " Table Columns : id:INT,player:text,runs:INT,match:INT,year:INT,city:text\n",
    " SQL : \"\"\"\n",
    " \n",
    "predictions = infer(model,input_text)\n",
    "print(parse(predictions[0]))"
   ]
  },
  {
   "cell_type": "markdown",
   "metadata": {},
   "source": [
    "#### Inferencing the original model"
   ]
  },
  {
   "cell_type": "code",
   "execution_count": 19,
   "metadata": {
    "scrolled": true
   },
   "outputs": [
    {
     "name": "stderr",
     "output_type": "stream",
     "text": [
      "Setting `pad_token_id` to `eos_token_id`:185 for open-end generation.\n"
     ]
    },
    {
     "name": "stdout",
     "output_type": "stream",
     "text": [
      "# write a python program to reverse text \n",
      "def reverse_text(text):\n",
      "    return text[::-1]\n",
      "\n"
     ]
    }
   ],
   "source": [
    "org_model.eval()\n",
    "\n",
    "input_text = \"\"\"# write a python program to reverse text \\ndef\"\"\"\n",
    " \n",
    "predictions = infer(org_model,input_text)\n",
    "print(predictions[0])"
   ]
  }
 ],
 "metadata": {
  "kernelspec": {
   "display_name": "llama_4bit",
   "language": "python",
   "name": "llama_4bit"
  },
  "language_info": {
   "codemirror_mode": {
    "name": "ipython",
    "version": 3
   },
   "file_extension": ".py",
   "mimetype": "text/x-python",
   "name": "python",
   "nbconvert_exporter": "python",
   "pygments_lexer": "ipython3",
   "version": "3.9.16"
  }
 },
 "nbformat": 4,
 "nbformat_minor": 2
}
